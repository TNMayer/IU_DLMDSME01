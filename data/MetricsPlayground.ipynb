{
 "cells": [
  {
   "cell_type": "code",
   "execution_count": 1,
   "id": "8db93aef-3c3b-4797-964c-0342aa41065f",
   "metadata": {},
   "outputs": [],
   "source": [
    "def loadPickle(path):\n",
    "    out = pickle.load(open(path, 'rb'))\n",
    "    return out"
   ]
  },
  {
   "cell_type": "code",
   "execution_count": 4,
   "id": "5e7638c4-f8b2-48d0-944f-d180cb086ace",
   "metadata": {},
   "outputs": [],
   "source": [
    "import pickle\n",
    "\n",
    "roc_auc = loadPickle('./rfecv_roc_auc.pkl')"
   ]
  },
  {
   "cell_type": "code",
   "execution_count": 7,
   "id": "0e0b5350-7dac-48c3-a8b2-be010380bda9",
   "metadata": {},
   "outputs": [
    {
     "data": {
      "text/plain": [
       "{'mean_test_score': array([0.51452378, 0.53546838, 0.56123397, 0.6106506 , 0.64766895,\n",
       "        0.65768669, 0.65725806, 0.65643291, 0.66410322, 0.68263405,\n",
       "        0.68772015, 0.70558192, 0.70529806, 0.7154053 , 0.72310721,\n",
       "        0.72745955, 0.72767178, 0.7267954 , 0.72568022, 0.72313515,\n",
       "        0.72364913, 0.72563704, 0.72358505, 0.72502752]),\n",
       " 'std_test_score': array([0., 0., 0., 0., 0., 0., 0., 0., 0., 0., 0., 0., 0., 0., 0., 0., 0.,\n",
       "        0., 0., 0., 0., 0., 0., 0.]),\n",
       " 'split0_test_score': array([0.51452378, 0.53546838, 0.56123397, 0.6106506 , 0.64766895,\n",
       "        0.65768669, 0.65725806, 0.65643291, 0.66410322, 0.68263405,\n",
       "        0.68772015, 0.70558192, 0.70529806, 0.7154053 , 0.72310721,\n",
       "        0.72745955, 0.72767178, 0.7267954 , 0.72568022, 0.72313515,\n",
       "        0.72364913, 0.72563704, 0.72358505, 0.72502752])}"
      ]
     },
     "execution_count": 7,
     "metadata": {},
     "output_type": "execute_result"
    }
   ],
   "source": [
    "roc_auc.cv_results_"
   ]
  },
  {
   "cell_type": "code",
   "execution_count": 8,
   "id": "3778e15a-14d0-4b1f-bf8d-302cb0ad1733",
   "metadata": {},
   "outputs": [
    {
     "data": {
      "text/plain": [
       "0.727671781718191"
      ]
     },
     "execution_count": 8,
     "metadata": {},
     "output_type": "execute_result"
    }
   ],
   "source": [
    "roc_auc.cv_results_['mean_test_score'].max()"
   ]
  }
 ],
 "metadata": {
  "kernelspec": {
   "display_name": "Python 3 (ipykernel)",
   "language": "python",
   "name": "python3"
  },
  "language_info": {
   "codemirror_mode": {
    "name": "ipython",
    "version": 3
   },
   "file_extension": ".py",
   "mimetype": "text/x-python",
   "name": "python",
   "nbconvert_exporter": "python",
   "pygments_lexer": "ipython3",
   "version": "3.9.12"
  }
 },
 "nbformat": 4,
 "nbformat_minor": 5
}
